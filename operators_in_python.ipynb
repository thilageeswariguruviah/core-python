{
  "nbformat": 4,
  "nbformat_minor": 0,
  "metadata": {
    "colab": {
      "provenance": []
    },
    "kernelspec": {
      "name": "python3",
      "display_name": "Python 3"
    },
    "language_info": {
      "name": "python"
    }
  },
  "cells": [
    {
      "cell_type": "markdown",
      "source": [
        "**Operators**"
      ],
      "metadata": {
        "id": "hqbq7hoslZRw"
      }
    },
    {
      "cell_type": "markdown",
      "source": [
        "Python divides the operators in the following groups:\n",
        "\n",
        "Arithmetic operators\n",
        "\n",
        "Assignment operators\n",
        "\n",
        "Comparison operators\n",
        "\n",
        "Logical operators\n",
        "\n",
        "Identity operators\n",
        "\n",
        "Membership operators\n",
        "\n",
        "Bitwise operators"
      ],
      "metadata": {
        "id": "fP8nvhtQjjKy"
      }
    },
    {
      "cell_type": "code",
      "source": [
        "a = 50\n",
        "b = 10\n",
        "print(a+b)\n",
        "print(a-b)\n",
        "print(a*b)\n",
        "print(a/b)\n",
        "print(a//b)\n",
        "print(a%b)\n",
        "print(a**b)"
      ],
      "metadata": {
        "colab": {
          "base_uri": "https://localhost:8080/"
        },
        "id": "RuT1bf_Xtcj8",
        "outputId": "fbc7939d-9698-46bd-9b22-df607b00454e"
      },
      "execution_count": null,
      "outputs": [
        {
          "output_type": "stream",
          "name": "stdout",
          "text": [
            "60\n",
            "40\n",
            "500\n",
            "5.0\n",
            "5\n",
            "0\n",
            "97656250000000000\n"
          ]
        }
      ]
    },
    {
      "cell_type": "code",
      "source": [
        "#Find Square of a number\n",
        "sqno=int(input(\"enter a number=\"))\n",
        "a=sqno*2\n",
        "print(a)"
      ],
      "metadata": {
        "colab": {
          "base_uri": "https://localhost:8080/"
        },
        "id": "S6HzZJcKjucZ",
        "outputId": "2313ef81-4d3f-4dd1-bf9f-b604750e805c"
      },
      "execution_count": null,
      "outputs": [
        {
          "output_type": "stream",
          "name": "stdout",
          "text": [
            "enter a number=8\n",
            "16\n"
          ]
        }
      ]
    },
    {
      "cell_type": "code",
      "source": [
        "#Find cube of a number\n",
        "cube=int(input(\"enter the value=\"))\n",
        "a=cube**3\n",
        "print(a)"
      ],
      "metadata": {
        "colab": {
          "base_uri": "https://localhost:8080/"
        },
        "id": "nHEErJCTkc78",
        "outputId": "74f9995a-c4b0-4bd1-8211-10524082e16c"
      },
      "execution_count": null,
      "outputs": [
        {
          "output_type": "stream",
          "name": "stdout",
          "text": [
            "enter the value=6\n",
            "216\n"
          ]
        }
      ]
    },
    {
      "cell_type": "code",
      "source": [
        "#find area of Triangle\n",
        "b=float(input(\"enter b value\"))\n",
        "h=float(input(\"enter h value\"))\n",
        "a=h*b/2\n",
        "print(a)"
      ],
      "metadata": {
        "colab": {
          "base_uri": "https://localhost:8080/"
        },
        "id": "XNoKp_Col3VJ",
        "outputId": "b514a68e-446e-484d-9a64-34906f17a03c"
      },
      "execution_count": null,
      "outputs": [
        {
          "output_type": "stream",
          "name": "stdout",
          "text": [
            "enter b value23\n",
            "enter h value50\n",
            "575.0\n"
          ]
        }
      ]
    },
    {
      "cell_type": "code",
      "source": [
        "#Temperature in celsius to fahrenheit\n",
        "celsius=float(input(\"enter temperature in celsius\"))\n",
        "fahrenheit = (celsius * 1.8) + 32\n",
        "print(celsius, \"Celsius is equal to\", fahrenheit, \"Fahrenheit\")"
      ],
      "metadata": {
        "colab": {
          "base_uri": "https://localhost:8080/"
        },
        "id": "-OrjB669r2--",
        "outputId": "8e2a41aa-530a-444f-a286-d4afb1b71d3e"
      },
      "execution_count": null,
      "outputs": [
        {
          "output_type": "stream",
          "name": "stdout",
          "text": [
            "enter temperature in celsius20.0\n",
            "20.0 Celsius is equal to 68.0 Fahrenheit\n"
          ]
        }
      ]
    },
    {
      "cell_type": "code",
      "source": [
        "#kilometers to miles\n",
        "kilometers = float(input(\"Enter value in kilometers: \"))\n",
        "conv_fac = 0.6213\n",
        "miles = kilometers * conv_fac\n",
        "print('%0.2f kilometers is equal to %0.2f miles' %(kilometers,miles))"
      ],
      "metadata": {
        "colab": {
          "base_uri": "https://localhost:8080/"
        },
        "id": "02TcinKVsfwv",
        "outputId": "3199cf03-012d-4eac-a3ef-b5f8cc5245a7"
      },
      "execution_count": null,
      "outputs": [
        {
          "output_type": "stream",
          "name": "stdout",
          "text": [
            "Enter value in kilometers: 5\n",
            "5.00 kilometers is equal to 3.11 miles\n"
          ]
        }
      ]
    },
    {
      "cell_type": "code",
      "source": [
        "#S=3x2+2y+Z\n",
        "x = int(input(\"Enter value=\"))\n",
        "y = int(input(\"enter value=\"))\n",
        "z = int(input(\"enter value=\"))\n",
        "s = (3*x**2)+(2*y)+z\n",
        "print(\"s=\",s)"
      ],
      "metadata": {
        "colab": {
          "base_uri": "https://localhost:8080/"
        },
        "id": "QvdkcGa2lpqQ",
        "outputId": "7bedba38-013a-462b-9f9e-c90112330d3e"
      },
      "execution_count": null,
      "outputs": [
        {
          "output_type": "stream",
          "name": "stdout",
          "text": [
            "Enter value=6\n",
            "enter value=8\n",
            "enter value=4\n",
            "s= 128\n"
          ]
        }
      ]
    }
  ]
}