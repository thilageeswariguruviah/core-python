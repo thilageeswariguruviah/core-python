{
  "nbformat": 4,
  "nbformat_minor": 0,
  "metadata": {
    "colab": {
      "provenance": []
    },
    "kernelspec": {
      "name": "python3",
      "display_name": "Python 3"
    },
    "language_info": {
      "name": "python"
    }
  },
  "cells": [
    {
      "cell_type": "markdown",
      "source": [
        "**Learn Python**\n",
        "\n",
        "Python is a popular programming language.\n",
        "\n",
        "Python can be used on a server to create web applications."
      ],
      "metadata": {
        "id": "Rp9J6WxAQ13B"
      }
    },
    {
      "cell_type": "code",
      "source": [
        "#Learning data types (primary/inbuild datatypes)\n",
        "a = 10"
      ],
      "metadata": {
        "id": "sUOF1ICFRNu2"
      },
      "execution_count": null,
      "outputs": []
    },
    {
      "cell_type": "code",
      "source": [
        "type(a)   #int - number"
      ],
      "metadata": {
        "colab": {
          "base_uri": "https://localhost:8080/"
        },
        "id": "MPiqPXKlRg_w",
        "outputId": "b869e643-0e70-4a36-a982-8fab6c8be554"
      },
      "execution_count": null,
      "outputs": [
        {
          "output_type": "execute_result",
          "data": {
            "text/plain": [
              "int"
            ]
          },
          "metadata": {},
          "execution_count": 3
        }
      ]
    },
    {
      "cell_type": "code",
      "source": [
        "b = 7.112"
      ],
      "metadata": {
        "id": "sdcQkDzpRj2c"
      },
      "execution_count": null,
      "outputs": []
    },
    {
      "cell_type": "code",
      "source": [
        "type(b)  #float - decimal number"
      ],
      "metadata": {
        "colab": {
          "base_uri": "https://localhost:8080/"
        },
        "id": "SvVtmOtpR1z0",
        "outputId": "53d6ea52-0acd-4826-b540-f8c78a84b880"
      },
      "execution_count": null,
      "outputs": [
        {
          "output_type": "execute_result",
          "data": {
            "text/plain": [
              "float"
            ]
          },
          "metadata": {},
          "execution_count": 10
        }
      ]
    },
    {
      "cell_type": "code",
      "source": [
        "c = True"
      ],
      "metadata": {
        "id": "CalQ2E3ZSIoe"
      },
      "execution_count": null,
      "outputs": []
    },
    {
      "cell_type": "code",
      "source": [
        "type(c)  #boolean variables are defined by the True and False keywords"
      ],
      "metadata": {
        "colab": {
          "base_uri": "https://localhost:8080/"
        },
        "id": "qLRM3NggSQcN",
        "outputId": "bcf78e58-aaca-425d-85e3-4fa26a9a956d"
      },
      "execution_count": null,
      "outputs": [
        {
          "output_type": "execute_result",
          "data": {
            "text/plain": [
              "bool"
            ]
          },
          "metadata": {},
          "execution_count": 12
        }
      ]
    },
    {
      "cell_type": "code",
      "source": [
        "d = 6+5j  #complex consists of two values, the first one is the real part of the complex number, and the second one is the imaginary part"
      ],
      "metadata": {
        "id": "_NcS5fAnSZc-"
      },
      "execution_count": null,
      "outputs": []
    },
    {
      "cell_type": "code",
      "source": [
        "type(d)"
      ],
      "metadata": {
        "colab": {
          "base_uri": "https://localhost:8080/"
        },
        "id": "Slu4oHkbShVB",
        "outputId": "1ede325c-45c3-4e13-f7a7-34f9964a7f29"
      },
      "execution_count": null,
      "outputs": [
        {
          "output_type": "execute_result",
          "data": {
            "text/plain": [
              "complex"
            ]
          },
          "metadata": {},
          "execution_count": 14
        }
      ]
    },
    {
      "cell_type": "markdown",
      "source": [
        "**Learning by Examples programs**\n"
      ],
      "metadata": {
        "id": "91yFwYWjQ19R"
      }
    },
    {
      "cell_type": "code",
      "source": [
        "#Addition of 3 numbers\n",
        "a = int(input(\"enter a value:\"))\n",
        "b = int(input(\"enter b value:\"))\n",
        "c = int(input(\"enter c value:\"))\n",
        "res = (a+b+c)\n",
        "print(\"Total=\",res)\n"
      ],
      "metadata": {
        "colab": {
          "base_uri": "https://localhost:8080/"
        },
        "id": "Ndae7aspTgW2",
        "outputId": "a0c68ba4-e8eb-4f04-b2dc-a71086b4ef5f"
      },
      "execution_count": null,
      "outputs": [
        {
          "output_type": "stream",
          "name": "stdout",
          "text": [
            "enter a value:230\n",
            "enter b value:120\n",
            "enter c value:67\n",
            "Total= 417\n"
          ]
        }
      ]
    },
    {
      "cell_type": "code",
      "source": [
        "#Student details\n",
        "studentname = str(input(\"enter student name=\"))\n",
        "studentid = str(input(\"enter student ID=\"))\n",
        "mark1 = int(input(\"enter mark 1 =\"))\n",
        "mark2 = int(input(\"enter mark 2 =\"))\n",
        "mark3 = int(input(\"enter mark3 =\"))\n",
        "total = mark1+mark2+mark3\n",
        "avg = total/3\n",
        "print(\"Student Name=\",studentname,\"Student ID=\",studentid,\"total=\",total,\"avg=\",avg)"
      ],
      "metadata": {
        "colab": {
          "base_uri": "https://localhost:8080/"
        },
        "id": "50umJrbNTgc6",
        "outputId": "c2c7894a-08ad-4b4f-a2f9-d7cf410bfb8c"
      },
      "execution_count": null,
      "outputs": [
        {
          "output_type": "stream",
          "name": "stdout",
          "text": [
            "enter student name=maya\n",
            "enter student ID=112\n",
            "enter mark 1 =50\n",
            "enter mark 2 =90\n",
            "enter mark3 =70\n",
            "Student Name= maya Student ID= 112 total= 210 avg= 70.0\n"
          ]
        }
      ]
    }
  ]
}