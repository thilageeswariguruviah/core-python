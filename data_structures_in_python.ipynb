{
  "nbformat": 4,
  "nbformat_minor": 0,
  "metadata": {
    "colab": {
      "provenance": []
    },
    "kernelspec": {
      "name": "python3",
      "display_name": "Python 3"
    },
    "language_info": {
      "name": "python"
    }
  },
  "cells": [
    {
      "cell_type": "markdown",
      "source": [
        "List\n",
        "Lists are used to store multiple items in a single variable.\n",
        "\n",
        "Lists are one of 4 built-in data types in Python used to store collections of data, the other 3 are Tuple, Set, and Dictionary, all with different qualities and usage"
      ],
      "metadata": {
        "id": "ANdBDW31rMST"
      }
    },
    {
      "cell_type": "code",
      "execution_count": 1,
      "metadata": {
        "colab": {
          "base_uri": "https://localhost:8080/"
        },
        "id": "Zo6aJUAtq90C",
        "outputId": "7b678709-6fc5-4afa-fbcf-c1d266178eb3"
      },
      "outputs": [
        {
          "output_type": "stream",
          "name": "stdout",
          "text": [
            "[19, 26, 29]\n"
          ]
        }
      ],
      "source": [
        " # a list of three elements\n",
        "ages = [19, 26, 29]\n",
        "print(ages)"
      ]
    },
    {
      "cell_type": "markdown",
      "source": [
        "The index() method returns the index of the specified element in the list\n",
        "\n",
        "For example"
      ],
      "metadata": {
        "id": "7B_wCsIxs3rL"
      }
    },
    {
      "cell_type": "code",
      "source": [
        "animals = ['cat', 'dog', 'rabbit', 'horse']\n",
        "# get the index of 'dog'\n",
        "index = animals.index('dog')\n",
        "print(index)\n"
      ],
      "metadata": {
        "colab": {
          "base_uri": "https://localhost:8080/"
        },
        "id": "zWKJ-BD1szoD",
        "outputId": "1a1ed5b0-49e5-4f1c-f6da-69a4cfe703a5"
      },
      "execution_count": 2,
      "outputs": [
        {
          "output_type": "stream",
          "name": "stdout",
          "text": [
            "1\n"
          ]
        }
      ]
    },
    {
      "cell_type": "markdown",
      "source": [
        "The append() method adds an item to the end of the list.\n",
        "\n",
        "For example:"
      ],
      "metadata": {
        "id": "QS4PhcSWtG-x"
      }
    },
    {
      "cell_type": "code",
      "source": [
        "currencies = ['Dollar', 'Euro', 'Pound']\n",
        "# append 'Yen' to the list\n",
        "currencies.append('Yen')\n",
        "print(currencies)\n"
      ],
      "metadata": {
        "colab": {
          "base_uri": "https://localhost:8080/"
        },
        "id": "O2f86n5ptGVt",
        "outputId": "abdaf8bd-e0fb-4abb-99cd-00f576caba4d"
      },
      "execution_count": 3,
      "outputs": [
        {
          "output_type": "stream",
          "name": "stdout",
          "text": [
            "['Dollar', 'Euro', 'Pound', 'Yen']\n"
          ]
        }
      ]
    },
    {
      "cell_type": "markdown",
      "source": [
        "The extend() method adds all the items of the specified iterable, such as list, tuple, dictionary, or string , to the end of a list.\n",
        "\n",
        "For example:"
      ],
      "metadata": {
        "id": "3NlxxXOatXUu"
      }
    },
    {
      "cell_type": "code",
      "source": [
        "numbers1 = [3, 4, 5]\n",
        "numbers2 = [10, 20]\n",
        "# add the items of numbers1 to the number2 list\n",
        "numbers2.extend(numbers1)\n",
        "print(f\"numbers1 = {numbers1}\")\n",
        "print(f\"numbers2 = {numbers2}\")"
      ],
      "metadata": {
        "colab": {
          "base_uri": "https://localhost:8080/"
        },
        "id": "Rf5TAJc-tWY6",
        "outputId": "e2abb633-2e38-4873-fe4e-5813365cecf3"
      },
      "execution_count": 4,
      "outputs": [
        {
          "output_type": "stream",
          "name": "stdout",
          "text": [
            "numbers1 = [3, 4, 5]\n",
            "numbers2 = [10, 20, 3, 4, 5]\n"
          ]
        }
      ]
    },
    {
      "cell_type": "markdown",
      "source": [
        "The insert() method inserts an element to the list at the specified index.\n",
        "\n",
        "For example:"
      ],
      "metadata": {
        "id": "7lwo20GctxQi"
      }
    },
    {
      "cell_type": "code",
      "source": [
        "# create a list of vowels\n",
        "vowel = ['a', 'e', 'i', 'u']\n",
        "# 'o' is inserted at index 3 (4th position)\n",
        "vowel.insert(3, 'o')\n",
        "print('List:', vowel)\n"
      ],
      "metadata": {
        "colab": {
          "base_uri": "https://localhost:8080/"
        },
        "id": "1cyhXx9etv4I",
        "outputId": "28b6cfa0-15c8-4b4d-cf5d-1e304b13d3c0"
      },
      "execution_count": 5,
      "outputs": [
        {
          "output_type": "stream",
          "name": "stdout",
          "text": [
            "List: ['a', 'e', 'i', 'o', 'u']\n"
          ]
        }
      ]
    },
    {
      "cell_type": "markdown",
      "source": [
        "The remove() method removes the first matching element (which is passed as an argument) from the list.\n",
        "\n",
        "For example:"
      ],
      "metadata": {
        "id": "-Xs4mX6HuDex"
      }
    },
    {
      "cell_type": "code",
      "source": [
        "# create a list\n",
        "prime_numbers = [2, 3, 5, 7, 9, 11]\n",
        "# remove 9 from the list\n",
        "prime_numbers.remove(9)\n",
        "# Updated prime_numbers List\n",
        "print('Updated List: ', prime_numbers)\n"
      ],
      "metadata": {
        "colab": {
          "base_uri": "https://localhost:8080/"
        },
        "id": "faCyCbk4uD0E",
        "outputId": "328fba8b-86b7-4d2e-fb1c-726eb1e8d7dc"
      },
      "execution_count": 6,
      "outputs": [
        {
          "output_type": "stream",
          "name": "stdout",
          "text": [
            "Updated List:  [2, 3, 5, 7, 11]\n"
          ]
        }
      ]
    },
    {
      "cell_type": "markdown",
      "source": [
        "The list pop() method removes the item at the specified index. The method also returns the removed item.\n",
        "\n",
        "For example:"
      ],
      "metadata": {
        "id": "2seA8BUTugSS"
      }
    },
    {
      "cell_type": "code",
      "source": [
        "prime_numbers = [2, 3, 5, 7]\n",
        "# remove the element at index 2\n",
        "removed_element = prime_numbers.pop(2)\n",
        "print('Removed Element:', removed_element)\n",
        "print('Updated List:', prime_numbers)\n",
        "\n"
      ],
      "metadata": {
        "colab": {
          "base_uri": "https://localhost:8080/"
        },
        "id": "cNFIXd0guWuC",
        "outputId": "b41c9bd4-4e5c-4ae2-92eb-417c9904b4b6"
      },
      "execution_count": 7,
      "outputs": [
        {
          "output_type": "stream",
          "name": "stdout",
          "text": [
            "Removed Element: 5\n",
            "Updated List: [2, 3, 7]\n"
          ]
        }
      ]
    },
    {
      "cell_type": "markdown",
      "source": [
        "The count() method returns the number of times the specified element appears in the list.\n",
        "\n",
        "For example:"
      ],
      "metadata": {
        "id": "gDlA5WJfuva8"
      }
    },
    {
      "cell_type": "code",
      "source": [
        "# create a list\n",
        "numbers = [2, 3, 5, 2, 11, 2, 7]\n",
        "# check the count of 2\n",
        "count = numbers.count(2)\n",
        "print('Count of 2:', count)\n",
        "\n"
      ],
      "metadata": {
        "colab": {
          "base_uri": "https://localhost:8080/"
        },
        "id": "b67ZxDOFuuvN",
        "outputId": "4ed1f1ec-01e3-48fc-dea1-4ecdf92012a6"
      },
      "execution_count": 8,
      "outputs": [
        {
          "output_type": "stream",
          "name": "stdout",
          "text": [
            "Count of 2: 3\n"
          ]
        }
      ]
    },
    {
      "cell_type": "markdown",
      "source": [
        "Dictionary\n",
        "\n",
        "Dictionaries are used to store data values in key:value pairs.\n",
        "\n",
        "A dictionary is a collection which is ordered,changeable and do not allow duplicates."
      ],
      "metadata": {
        "id": "SEm5OiKqwIFP"
      }
    },
    {
      "cell_type": "markdown",
      "source": [
        "The items() method returns a view object that displays a list of dictionary's (key, value) tuple pairs.\n",
        "\n",
        "For example:"
      ],
      "metadata": {
        "id": "EHbNU4f8wImx"
      }
    },
    {
      "cell_type": "code",
      "source": [
        "marks = {'Physics':67, 'Maths':87}\n",
        "print(marks.items())"
      ],
      "metadata": {
        "colab": {
          "base_uri": "https://localhost:8080/"
        },
        "id": "z7ZaT2LRwYyC",
        "outputId": "e99cc9ff-9f4d-4588-e3c6-6e1595a88739"
      },
      "execution_count": 9,
      "outputs": [
        {
          "output_type": "stream",
          "name": "stdout",
          "text": [
            "dict_items([('Physics', 67), ('Maths', 87)])\n"
          ]
        }
      ]
    },
    {
      "cell_type": "markdown",
      "source": [
        "The keys() method extracts the keys of the dictionary and returns the list of keys as a view object.\n",
        "\n",
        "For example:"
      ],
      "metadata": {
        "id": "8BDbnIPExHkP"
      }
    },
    {
      "cell_type": "code",
      "source": [
        "numbers = {1: 'one', 2: 'two', 3: 'three'}\n",
        "# extracts the keys of the dictionary\n",
        "dictionaryKeys = numbers.keys()\n",
        "print(dictionaryKeys)"
      ],
      "metadata": {
        "colab": {
          "base_uri": "https://localhost:8080/"
        },
        "id": "AMq__x_SxK9q",
        "outputId": "2849a0a4-66dc-47f5-e0c4-3b78e67b839a"
      },
      "execution_count": 12,
      "outputs": [
        {
          "output_type": "stream",
          "name": "stdout",
          "text": [
            "dict_keys([1, 2, 3])\n"
          ]
        }
      ]
    },
    {
      "cell_type": "markdown",
      "source": [
        "The pop() method removes and returns an element from a dictionary having the given key.\n",
        "\n",
        "For example:"
      ],
      "metadata": {
        "id": "CeUeEsuCwh0j"
      }
    },
    {
      "cell_type": "code",
      "source": [
        "# create a dictionary\n",
        "marks = { 'Physics': 67, 'Chemistry': 72, 'Math': 89 }\n",
        "element = marks.pop('Chemistry')\n",
        "print('Popped Marks:', element)"
      ],
      "metadata": {
        "colab": {
          "base_uri": "https://localhost:8080/"
        },
        "id": "kt3Ul3F5wkoj",
        "outputId": "ad5af892-0db7-421c-a4ef-1fdf7a911426"
      },
      "execution_count": 10,
      "outputs": [
        {
          "output_type": "stream",
          "name": "stdout",
          "text": [
            "Popped Marks: 72\n"
          ]
        }
      ]
    },
    {
      "cell_type": "markdown",
      "source": [
        "The update() method updates the dictionary with the elements from another dictionary object or from an iterable of key/value pairs.\n",
        "\n",
        "For example:"
      ],
      "metadata": {
        "id": "gWFnGSJhw0oR"
      }
    },
    {
      "cell_type": "code",
      "source": [
        "marks = {'Physics':67, 'Maths':87}\n",
        "internal_marks = {'Practical':48}\n",
        "marks.update(internal_marks)\n",
        "print(marks)"
      ],
      "metadata": {
        "colab": {
          "base_uri": "https://localhost:8080/"
        },
        "id": "RcTxt6lfwvoA",
        "outputId": "cfe8a00d-fc49-4b27-c647-464743a146d4"
      },
      "execution_count": 11,
      "outputs": [
        {
          "output_type": "stream",
          "name": "stdout",
          "text": [
            "{'Physics': 67, 'Maths': 87, 'Practical': 48}\n"
          ]
        }
      ]
    },
    {
      "cell_type": "markdown",
      "source": [
        "Tuple\n",
        "\n",
        "Tuples are used to store multiple items in a single variable.\n",
        "\n",
        "Tuple is one of 4 built-in data types in Python used to store collections of data, the other 3 are List, Set, and Dictionary, all with different qualities and usage.\n",
        "\n",
        "A tuple is a collection which is ordered and unchangeable."
      ],
      "metadata": {
        "id": "dqbVTKGexqER"
      }
    },
    {
      "cell_type": "markdown",
      "source": [
        "We create a tuple by placing items inside parentheses ().\n",
        "\n",
        "For example:"
      ],
      "metadata": {
        "id": "9Ouk65C2x9t5"
      }
    },
    {
      "cell_type": "code",
      "source": [
        "numbers = (1, 2, -5)\n",
        "print(numbers)"
      ],
      "metadata": {
        "colab": {
          "base_uri": "https://localhost:8080/"
        },
        "id": "RP9hrdqSxup7",
        "outputId": "956f34f7-7b8a-4b6f-f567-c7a8ff111a10"
      },
      "execution_count": 13,
      "outputs": [
        {
          "output_type": "stream",
          "name": "stdout",
          "text": [
            "(1, 2, -5)\n"
          ]
        }
      ]
    },
    {
      "cell_type": "code",
      "source": [
        "type(numbers)"
      ],
      "metadata": {
        "colab": {
          "base_uri": "https://localhost:8080/"
        },
        "id": "a0eItmYfyF9B",
        "outputId": "117ad558-9fbb-4062-f2f5-2b1ae07b9809"
      },
      "execution_count": 15,
      "outputs": [
        {
          "output_type": "execute_result",
          "data": {
            "text/plain": [
              "tuple"
            ]
          },
          "metadata": {},
          "execution_count": 15
        }
      ]
    },
    {
      "cell_type": "markdown",
      "source": [
        "The count() method returns the number of times the specified element appears in the tuple.\n",
        "\n",
        "For example:"
      ],
      "metadata": {
        "id": "MvsgttZlyPB3"
      }
    },
    {
      "cell_type": "code",
      "source": [
        "#tuple of vowels\n",
        "vowels = ('a', 'e', 'i', 'o', 'i', 'u')\n",
        "# counts the number of i's in the tuple\n",
        "count = vowels.count('i')\n",
        "print(count)"
      ],
      "metadata": {
        "colab": {
          "base_uri": "https://localhost:8080/"
        },
        "id": "2bN-oM-QySXO",
        "outputId": "88809e1c-2560-4af0-f18d-e2ba25815f29"
      },
      "execution_count": 16,
      "outputs": [
        {
          "output_type": "stream",
          "name": "stdout",
          "text": [
            "2\n"
          ]
        }
      ]
    },
    {
      "cell_type": "markdown",
      "source": [
        "The index() method returns the index of the specified element in the tuple"
      ],
      "metadata": {
        "id": "aBgzigz0ydLR"
      }
    },
    {
      "cell_type": "code",
      "source": [
        "# tuple containing vowels\n",
        "vowels = ('a', 'e', 'i', 'o', 'u')\n",
        "# index of 'e' in vowels\n",
        "index = vowels.index('e')\n",
        "print(index)\n"
      ],
      "metadata": {
        "colab": {
          "base_uri": "https://localhost:8080/"
        },
        "id": "QDMJOHM7yfwP",
        "outputId": "992fa84e-5960-4b10-bf0b-a78786f101c7"
      },
      "execution_count": 17,
      "outputs": [
        {
          "output_type": "stream",
          "name": "stdout",
          "text": [
            "1\n"
          ]
        }
      ]
    },
    {
      "cell_type": "markdown",
      "source": [
        "You can loop through the tuple items by using a for loop.\n",
        "\n",
        "For example:"
      ],
      "metadata": {
        "id": "_rrPM3Zxy5by"
      }
    },
    {
      "cell_type": "code",
      "source": [
        "tuple = (\"one\", \"two\", \"Three\")\n",
        "for x in tuple:\n",
        "  print(x)"
      ],
      "metadata": {
        "colab": {
          "base_uri": "https://localhost:8080/"
        },
        "id": "hLJUGKPkyq_f",
        "outputId": "401b8e78-4b60-46ad-c5bf-e64fa0531dd3"
      },
      "execution_count": 18,
      "outputs": [
        {
          "output_type": "stream",
          "name": "stdout",
          "text": [
            "one\n",
            "two\n",
            "Three\n"
          ]
        }
      ]
    },
    {
      "cell_type": "code",
      "source": [
        "type(tuple)"
      ],
      "metadata": {
        "colab": {
          "base_uri": "https://localhost:8080/"
        },
        "id": "oNtQO3wd0nP1",
        "outputId": "9a8592e1-81fa-41ca-919a-dae15313aa66"
      },
      "execution_count": 20,
      "outputs": [
        {
          "output_type": "execute_result",
          "data": {
            "text/plain": [
              "tuple"
            ]
          },
          "metadata": {},
          "execution_count": 20
        }
      ]
    },
    {
      "cell_type": "markdown",
      "source": [
        "Sets\n",
        "\n",
        "Sets are used to store multiple items in a single variable."
      ],
      "metadata": {
        "id": "vFTA1Ktx0HAH"
      }
    },
    {
      "cell_type": "code",
      "source": [
        "set = {\"set1\", \"set2\", \"set3\"}\n",
        "print(set)"
      ],
      "metadata": {
        "colab": {
          "base_uri": "https://localhost:8080/"
        },
        "id": "9CRDMwPb0J-q",
        "outputId": "113ca12e-8b85-4147-d487-36c25d2d5950"
      },
      "execution_count": 23,
      "outputs": [
        {
          "output_type": "stream",
          "name": "stdout",
          "text": [
            "{'set3', 'set2', 'set1'}\n"
          ]
        }
      ]
    },
    {
      "cell_type": "code",
      "source": [
        "type(set)"
      ],
      "metadata": {
        "colab": {
          "base_uri": "https://localhost:8080/"
        },
        "id": "VkitGHhl0q2O",
        "outputId": "5cfdfc46-8a15-4717-8b04-2381371cf237"
      },
      "execution_count": 21,
      "outputs": [
        {
          "output_type": "execute_result",
          "data": {
            "text/plain": [
              "set"
            ]
          },
          "metadata": {},
          "execution_count": 21
        }
      ]
    },
    {
      "cell_type": "markdown",
      "source": [
        "The sorted() method sorts the elements of the given iterable in ascending order and returns it.\n",
        "\n",
        "For example:"
      ],
      "metadata": {
        "id": "yEZXNPKA0yb-"
      }
    },
    {
      "cell_type": "code",
      "source": [
        "numbers = [4, 2, 12, 8]\n",
        "# sort the list in ascending order\n",
        "sorted_numbers = sorted(numbers)\n",
        "print(sorted_numbers)"
      ],
      "metadata": {
        "colab": {
          "base_uri": "https://localhost:8080/"
        },
        "id": "X2SOog9Q0xSq",
        "outputId": "fde44740-2539-49db-caa0-b84e08efc13f"
      },
      "execution_count": 22,
      "outputs": [
        {
          "output_type": "stream",
          "name": "stdout",
          "text": [
            "[2, 4, 8, 12]\n"
          ]
        }
      ]
    }
  ]
}